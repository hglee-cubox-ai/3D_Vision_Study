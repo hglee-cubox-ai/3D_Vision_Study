{
 "cells": [
  {
   "cell_type": "code",
   "execution_count": 1,
   "metadata": {},
   "outputs": [
    {
     "name": "stdout",
     "output_type": "stream",
     "text": [
      "Requirement already satisfied: numpy in c:\\users\\overp\\anaconda3\\lib\\site-packages (1.20.3)\n"
     ]
    }
   ],
   "source": [
    "!python -m pip install numpy"
   ]
  },
  {
   "cell_type": "code",
   "execution_count": 4,
   "metadata": {},
   "outputs": [],
   "source": [
    "import numpy as np\n",
    "\n",
    "A = np.array([\n",
    "    [2,3,3], \n",
    "    [5,3,1], \n",
    "    [4,5,1]\n",
    "])\n",
    "U, S, V = np.linalg.svd(A)"
   ]
  },
  {
   "cell_type": "code",
   "execution_count": 9,
   "metadata": {},
   "outputs": [
    {
     "name": "stdout",
     "output_type": "stream",
     "text": [
      "(3, 3) (3,) (3, 3)\n",
      "[[-0.44055623  0.85416795 -0.2762378 ]\n",
      " [-0.59895345 -0.50888162 -0.61829949]\n",
      " [-0.66870394 -0.10694211  0.73579781]]\n",
      "[9.55899032 2.37444865 1.40985736]\n",
      "[[-0.68529157 -0.67601792 -0.27087862]\n",
      " [-0.53226699  0.21105886  0.81984511]\n",
      " [-0.49705866  0.70601269 -0.50445889]]\n"
     ]
    }
   ],
   "source": [
    "print(U.shape, S.shape, V.shape)\n",
    "print(U)\n",
    "print(S)\n",
    "print(V)"
   ]
  },
  {
   "cell_type": "code",
   "execution_count": 8,
   "metadata": {},
   "outputs": [
    {
     "name": "stdout",
     "output_type": "stream",
     "text": [
      "[[2 3 3]\n",
      " [5 3 1]\n",
      " [4 5 1]]\n",
      "[[2. 3. 3.]\n",
      " [5. 3. 1.]\n",
      " [4. 5. 1.]]\n",
      "Is A == USV?  True\n"
     ]
    }
   ],
   "source": [
    "\n",
    "print(A)\n",
    "print(np.dot(U*S, V))\n",
    "\n",
    "print(\"Is A == USV? \", np.allclose(A, np.dot(U * S, V)))"
   ]
  }
 ],
 "metadata": {
  "kernelspec": {
   "display_name": "Python 3.9.7 ('base')",
   "language": "python",
   "name": "python3"
  },
  "language_info": {
   "codemirror_mode": {
    "name": "ipython",
    "version": 3
   },
   "file_extension": ".py",
   "mimetype": "text/x-python",
   "name": "python",
   "nbconvert_exporter": "python",
   "pygments_lexer": "ipython3",
   "version": "3.9.7"
  },
  "orig_nbformat": 4,
  "vscode": {
   "interpreter": {
    "hash": "2a8e590648ab55868f6709e28aa20748ac67a22d5af8ef2e2eeff6236177e5cb"
   }
  }
 },
 "nbformat": 4,
 "nbformat_minor": 2
}
